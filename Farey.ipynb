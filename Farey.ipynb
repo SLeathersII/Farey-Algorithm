{
 "cells": [
  {
   "cell_type": "code",
   "execution_count": 1,
   "id": "2db349ce-84ca-4272-9fc8-fe4058356222",
   "metadata": {},
   "outputs": [],
   "source": [
    "# turn any rational number into a fraction of integers using the farey algorithm\n",
    "def farey(x):\n",
    "    \n",
    "    a = 0\n",
    "    b = 1\n",
    "    c = round(x + 1)\n",
    "    d = 1\n",
    "    while x != (a+c)/(b+d):\n",
    "    \n",
    "        if x > (a+c)/(b+d):\n",
    "        \n",
    "            a = a + c\n",
    "            b = b + d\n",
    "        \n",
    "        elif x < (a+c)/(b+d):\n",
    "            \n",
    "            c = a + c \n",
    "            d = b + d\n",
    "            \n",
    "    print(f'your integers are {a+c}/{b+d}')"
   ]
  },
  {
   "cell_type": "code",
   "execution_count": 3,
   "id": "c8f10e84-8c50-4e42-9cf3-e4a6ee67a728",
   "metadata": {},
   "outputs": [
    {
     "name": "stdout",
     "output_type": "stream",
     "text": [
      "your integers are 628/200\n"
     ]
    }
   ],
   "source": [
    "farey(3.14)"
   ]
  },
  {
   "cell_type": "code",
   "execution_count": null,
   "id": "72fcc5e0-62ab-492f-875b-9cbac8d69422",
   "metadata": {},
   "outputs": [],
   "source": []
  }
 ],
 "metadata": {
  "kernelspec": {
   "display_name": "Python 3",
   "language": "python",
   "name": "python3"
  },
  "language_info": {
   "codemirror_mode": {
    "name": "ipython",
    "version": 3
   },
   "file_extension": ".py",
   "mimetype": "text/x-python",
   "name": "python",
   "nbconvert_exporter": "python",
   "pygments_lexer": "ipython3",
   "version": "3.8.8"
  }
 },
 "nbformat": 4,
 "nbformat_minor": 5
}
